{
  "nbformat": 4,
  "nbformat_minor": 0,
  "metadata": {
    "colab": {
      "provenance": []
    },
    "kernelspec": {
      "name": "python3",
      "display_name": "Python 3"
    },
    "language_info": {
      "name": "python"
    }
  },
  "cells": [
    {
      "cell_type": "code",
      "execution_count": null,
      "metadata": {
        "colab": {
          "base_uri": "https://localhost:8080/"
        },
        "id": "VD6CaA8n395M",
        "outputId": "2ec53c8f-4575-4ac1-ccea-610ff16999c4"
      },
      "outputs": [
        {
          "output_type": "stream",
          "name": "stdout",
          "text": [
            "Mounted at /content/drive\n"
          ]
        }
      ],
      "source": [
        "from google.colab import drive\n",
        "drive.mount('/content/drive')\n"
      ]
    },
    {
      "cell_type": "code",
      "source": [
        "!pip install rdkit-pypi\n"
      ],
      "metadata": {
        "colab": {
          "base_uri": "https://localhost:8080/"
        },
        "id": "mY3BRN2G4Xhd",
        "outputId": "52318a8b-fe11-4b8c-a1dd-50865664acb5"
      },
      "execution_count": null,
      "outputs": [
        {
          "output_type": "stream",
          "name": "stdout",
          "text": [
            "Collecting rdkit-pypi\n",
            "  Downloading rdkit_pypi-2022.9.5-cp310-cp310-manylinux_2_17_x86_64.manylinux2014_x86_64.whl.metadata (3.9 kB)\n",
            "Requirement already satisfied: numpy in /usr/local/lib/python3.10/dist-packages (from rdkit-pypi) (1.26.4)\n",
            "Requirement already satisfied: Pillow in /usr/local/lib/python3.10/dist-packages (from rdkit-pypi) (10.4.0)\n",
            "Downloading rdkit_pypi-2022.9.5-cp310-cp310-manylinux_2_17_x86_64.manylinux2014_x86_64.whl (29.4 MB)\n",
            "\u001b[2K   \u001b[90m━━━━━━━━━━━━━━━━━━━━━━━━━━━━━━━━━━━━━━━━\u001b[0m \u001b[32m29.4/29.4 MB\u001b[0m \u001b[31m38.7 MB/s\u001b[0m eta \u001b[36m0:00:00\u001b[0m\n",
            "\u001b[?25hInstalling collected packages: rdkit-pypi\n",
            "Successfully installed rdkit-pypi-2022.9.5\n"
          ]
        }
      ]
    },
    {
      "cell_type": "code",
      "source": [
        "# import pandas as pd\n",
        "# from rdkit import Chem\n",
        "# from rdkit.Chem import AllChem\n",
        "\n",
        "# # Load data\n",
        "# data = pd.read_csv('/content/drive/MyDrive/BTP/chemprop_data.csv')\n",
        "\n",
        "# # Function to get Morgan fingerprint as a list of bits\n",
        "# def get_morgan_fingerprint_bits(smiles, radius=2, nBits=2048):\n",
        "#     mol = Chem.MolFromSmiles(smiles)\n",
        "#     if mol:\n",
        "#         fingerprint = AllChem.GetMorganFingerprintAsBitVect(mol, radius, nBits)\n",
        "#         return list(map(int, fingerprint.ToBitString()))\n",
        "#     else:\n",
        "#         return [0] * nBits  # Or handle missing values differently if desired\n",
        "\n",
        "# # Generate fingerprints for each SMILES column\n",
        "# data['fingerprint_1'] = data['canonical_smiles_1'].apply(lambda x: get_morgan_fingerprint_bits(x))\n",
        "# data['fingerprint_2'] = data['canonical_smiles_2'].apply(lambda x: get_morgan_fingerprint_bits(x))\n",
        "\n",
        "# # Expand fingerprints into individual columns for Chemprop\n",
        "# fingerprint_1_df = pd.DataFrame(data['fingerprint_1'].tolist(), index=data.index)\n",
        "# fingerprint_1_df.columns = [f'fingerprint_1_bit_{i}' for i in range(fingerprint_1_df.shape[1])]\n",
        "\n",
        "# fingerprint_2_df = pd.DataFrame(data['fingerprint_2'].tolist(), index=data.index)\n",
        "# fingerprint_2_df.columns = [f'fingerprint_2_bit_{i}' for i in range(fingerprint_2_df.shape[1])]\n",
        "\n",
        "# # Drop the original list columns and join expanded bit columns\n",
        "# data = data.drop(columns=['fingerprint_1', 'fingerprint_2'])\n",
        "# descriptor_data = pd.concat([data, fingerprint_1_df, fingerprint_2_df], axis=1)\n",
        "\n",
        "# # Save descriptor file for Chemprop\n",
        "# descriptor_data.to_csv('/content/drive/MyDrive/BTP/descriptors_for_chemprop.csv', index=False)\n",
        "\n",
        "# print(descriptor_data.head())"
      ],
      "metadata": {
        "id": "_Z50zzfj4jnA"
      },
      "execution_count": null,
      "outputs": []
    },
    {
      "cell_type": "code",
      "source": [
        "import pandas as pd\n",
        "import numpy as np\n",
        "from rdkit import Chem\n",
        "from rdkit.Chem import AllChem\n",
        "\n",
        "# Function to get Morgan fingerprint as a list of bits\n",
        "def get_morgan_fingerprint_bits(smiles, radius=2, nBits=1024):\n",
        "    mol = Chem.MolFromSmiles(smiles)\n",
        "    if mol:\n",
        "        fingerprint = AllChem.GetMorganFingerprintAsBitVect(mol, radius, nBits)\n",
        "        return list(map(int, fingerprint.ToBitString()))\n",
        "    else:\n",
        "        return [0] * nBits  # Handle invalid SMILES with all-zeros\n",
        "\n",
        "# Process data in chunks and save as npz file\n",
        "data = pd.read_csv('/content/drive/MyDrive/BTP/chemprop_data.csv', chunksize=1000)\n",
        "\n",
        "all_fingerprints = []  # Store all fingerprints here\n",
        "\n",
        "for chunk in data:\n",
        "    # Calculate fingerprints for each SMILES column in the chunk\n",
        "    chunk['fingerprint_1'] = chunk['canonical_smiles_1'].apply(get_morgan_fingerprint_bits)\n",
        "    chunk['fingerprint_2'] = chunk['canonical_smiles_2'].apply(get_morgan_fingerprint_bits)\n",
        "\n",
        "    # Combine fingerprints\n",
        "    combined_fingerprints = chunk.apply(lambda x: x['fingerprint_1'] + x['fingerprint_2'], axis=1)\n",
        "\n",
        "    # Append combined fingerprints to the list\n",
        "    all_fingerprints.extend(combined_fingerprints.tolist())\n",
        "\n",
        "# Convert all fingerprints to numpy array\n",
        "fingerprints_array = np.array(all_fingerprints)\n",
        "\n",
        "# Save to npz file\n",
        "np.savez_compressed('/content/drive/MyDrive/BTP/descriptors_for_chemprop.npz', arr_0=fingerprints_array)\n",
        "\n",
        "print(\"Descriptor data saved in Chemprop-compatible .npz format.\")\n",
        "\n",
        "\n"
      ],
      "metadata": {
        "colab": {
          "base_uri": "https://localhost:8080/"
        },
        "id": "Y8IcRE45H78L",
        "outputId": "f1885f81-afe0-48dc-b449-ea03d1f2ccb8"
      },
      "execution_count": null,
      "outputs": [
        {
          "output_type": "stream",
          "name": "stdout",
          "text": [
            "Descriptor data saved in Chemprop-compatible .npz format.\n"
          ]
        }
      ]
    },
    {
      "cell_type": "code",
      "source": [
        "import numpy as np\n",
        "\n",
        "# Load the .npz file\n",
        "npz_file = np.load('/content/drive/MyDrive/BTP/descriptors_for_chemprop.npz')\n",
        "\n",
        "# View the keys in the .npz file\n",
        "print(\"Keys in the .npz file:\", npz_file.files)\n",
        "\n",
        "# Access and display the 'fingerprints' array\n",
        "fingerprints_array = npz_file['fingerprints']\n",
        "print(\"Shape of fingerprints array:\", fingerprints_array.shape)\n",
        "\n",
        "# Display the first few rows of the array\n",
        "print(\"First few rows of fingerprints data:\")\n",
        "print(fingerprints_array[:5])\n"
      ],
      "metadata": {
        "id": "8bbNwBB4Q83h",
        "outputId": "bf85437a-4b28-4d83-fa2c-23f5927af2bb",
        "colab": {
          "base_uri": "https://localhost:8080/"
        }
      },
      "execution_count": null,
      "outputs": [
        {
          "output_type": "stream",
          "name": "stdout",
          "text": [
            "Keys in the .npz file: ['fingerprints']\n",
            "Shape of fingerprints array: (170254, 2048)\n",
            "First few rows of fingerprints data:\n",
            "[[0 0 0 ... 0 0 0]\n",
            " [0 0 0 ... 0 0 0]\n",
            " [0 0 0 ... 0 0 0]\n",
            " [0 0 0 ... 0 0 0]\n",
            " [0 0 0 ... 0 0 0]]\n"
          ]
        }
      ]
    },
    {
      "cell_type": "markdown",
      "source": [
        "CVS to NPZ"
      ],
      "metadata": {
        "id": "-GnVUghUYcoQ"
      }
    },
    {
      "cell_type": "code",
      "source": [
        "import numpy as np\n",
        "import pandas as pd\n",
        "\n",
        "# Load the descriptors from the CSV\n",
        "descriptors_df = pd.read_csv('/content/drive/MyDrive/BTP/descriptors_train.csv')\n",
        "\n",
        "# Ensure all data is numeric (convert non-numeric columns to NaN and drop them)\n",
        "numeric_descriptors_df = descriptors_df.apply(pd.to_numeric, errors='coerce').dropna(axis=1, how='any')\n",
        "\n",
        "# Convert to NumPy array\n",
        "descriptors_array = numeric_descriptors_df.to_numpy(dtype=np.float32)  # Ensure float type\n",
        "\n",
        "# Save using np.savez to match the format expected by Chemprop\n",
        "np.savez('/content/drive/MyDrive/BTP/descriptors_train.npz', arr_0=descriptors_array)\n"
      ],
      "metadata": {
        "id": "JOAcyPfEYem8"
      },
      "execution_count": null,
      "outputs": []
    }
  ]
}